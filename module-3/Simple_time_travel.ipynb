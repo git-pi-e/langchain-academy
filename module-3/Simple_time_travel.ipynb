{
 "cells": [
  {
   "cell_type": "code",
   "execution_count": null,
   "id": "9ad24cf8-9ee7-4b57-8c89-12dd114be0a8",
   "metadata": {},
   "outputs": [],
   "source": [
    "l = ['0','1','2','3','4']"
   ]
  },
  {
   "cell_type": "code",
   "execution_count": null,
   "id": "bed0c63a-ebf4-4039-85d0-53712f25def4",
   "metadata": {},
   "outputs": [],
   "source": [
    "l[0]"
   ]
  },
  {
   "cell_type": "code",
   "execution_count": null,
   "id": "118ccdf2-4188-489b-a4cd-5dff064dfd76",
   "metadata": {},
   "outputs": [],
   "source": [
    "l[-2]"
   ]
  },
  {
   "cell_type": "markdown",
   "id": "769feadb-46e3-4b46-b94d-f37caba46801",
   "metadata": {},
   "source": [
    "**Topics to cover:**\n",
    "- graph 'replaying old nodes' if they have been run? in docs and in the time-travel notebook. Not sure what it means.\n",
    "- "
   ]
  },
  {
   "cell_type": "code",
   "execution_count": 1,
   "id": "94a07b0c-8dc4-4cf2-b3a9-ba6b3d31007a",
   "metadata": {},
   "outputs": [],
   "source": [
    "def shst(config, verbose=False):\n",
    "    #config = {\"configurable\": {\"thread_id\": \"1\"}}\n",
    "    sh = list(graph.get_state_history(config))\n",
    "    lsh = len(sh)\n",
    "    for i, s in enumerate(sh):\n",
    "        #print(s)\n",
    "        print(f'{-(lsh-i)}:{i}:{s.metadata.get(\"step\")}', s.config[\"configurable\"][\"checkpoint_id\"][-4:],\n",
    "              s.next, s.values)\n",
    "        if verbose:\n",
    "            for i, t in enumerate(s.tasks or ()):\n",
    "                print(\"        \",f\"task[{i}] name={getattr(t, 'name', None)} result={getattr(t, 'result', None)}\")\n",
    "        #print(s.config[\"configurable\"][\"checkpoint_id\"])"
   ]
  },
  {
   "cell_type": "code",
   "execution_count": 2,
   "id": "c84271c7-0fdc-4707-b0c0-ae3c56dd3375",
   "metadata": {},
   "outputs": [
    {
     "data": {
      "image/png": "[encoded data removed]",
      "text/plain": [
       "<IPython.core.display.Image object>"
      ]
     },
     "metadata": {},
     "output_type": "display_data"
    },
    {
     "name": "stdout",
     "output_type": "stream",
     "text": [
      "Node a receiving state {'foo': 'begin', 'bar': []}\n",
      "Node b receiving state {'foo': 'a', 'bar': ['a']}\n"
     ]
    },
    {
     "data": {
      "text/plain": [
       "{'foo': 'b', 'bar': ['a', 'b']}"
      ]
     },
     "execution_count": 2,
     "metadata": {},
     "output_type": "execute_result"
    }
   ],
   "source": [
    "from langgraph.graph import StateGraph, START, END\n",
    "from langgraph.checkpoint.memory import InMemorySaver\n",
    "from langchain_core.runnables import RunnableConfig\n",
    "from typing import Annotated\n",
    "from typing_extensions import TypedDict\n",
    "from operator import add\n",
    "from IPython.display import Image, display\n",
    "\n",
    "class State(TypedDict):\n",
    "    foo: str = \"goo\"\n",
    "    bar: Annotated[list[str], add]\n",
    "\n",
    "def node_a(state: State):\n",
    "    print(f\"Node a receiving state {state}\")\n",
    "    return {\"foo\": \"a\", \"bar\": [\"a\"]}\n",
    "\n",
    "def node_b(state: State):\n",
    "    print(f\"Node b receiving state {state}\")\n",
    "    return {\"foo\": \"b\", \"bar\": [\"b\"]}\n",
    "\n",
    "\n",
    "workflow = StateGraph(State)\n",
    "workflow.add_node(node_a)\n",
    "workflow.add_node(node_b)\n",
    "workflow.add_edge(START, \"node_a\")\n",
    "workflow.add_edge(\"node_a\", \"node_b\")\n",
    "workflow.add_edge(\"node_b\", END)\n",
    "\n",
    "checkpointer = InMemorySaver()\n",
    "graph = workflow.compile(checkpointer=checkpointer)\n",
    "display(Image(graph.get_graph().draw_mermaid_png()))\n",
    "config: RunnableConfig = {\"configurable\": {\"thread_id\": \"1\"}}\n",
    "graph.invoke({\"foo\": \"begin\"}, config)"
   ]
  },
  {
   "cell_type": "code",
   "execution_count": 3,
   "id": "f654ab3e-0278-464d-8f32-6a6ac408421a",
   "metadata": {},
   "outputs": [
    {
     "name": "stdout",
     "output_type": "stream",
     "text": [
      "-4:0:2 e17b () {'foo': 'b', 'bar': ['a', 'b']}\n",
      "-3:1:1 035b ('node_b',) {'foo': 'a', 'bar': ['a']}\n",
      "-2:2:0 0c46 ('node_a',) {'foo': 'begin', 'bar': []}\n",
      "-1:3:-1 0209 ('__start__',) {'bar': []}\n"
     ]
    }
   ],
   "source": [
    "shst(config)"
   ]
  },
  {
   "cell_type": "markdown",
   "id": "6f93e930-bb61-493c-8a86-bf6639aa01e9",
   "metadata": {},
   "source": [
    "## get_state()"
   ]
  },
  {
   "cell_type": "code",
   "execution_count": 4,
   "id": "44933c07-0e81-4a76-9838-dd545bedc064",
   "metadata": {},
   "outputs": [
    {
     "data": {
      "text/plain": [
       "StateSnapshot(values={'foo': 'b', 'bar': ['a', 'b']}, next=(), config={'configurable': {'thread_id': '1', 'checkpoint_ns': '', 'checkpoint_id': '1f0aece3-37b4-6b96-8002-f1f377d8e17b'}}, metadata={'source': 'loop', 'step': 2, 'parents': {}}, created_at='2025-10-21T22:35:09.869965+00:00', parent_config={'configurable': {'thread_id': '1', 'checkpoint_ns': '', 'checkpoint_id': '1f0aece3-37b2-6de6-8001-f810b58e035b'}}, tasks=(), interrupts=())"
      ]
     },
     "execution_count": 4,
     "metadata": {},
     "output_type": "execute_result"
    }
   ],
   "source": [
    "# get the latest state snapshot\n",
    "config = {\"configurable\": {\"thread_id\": \"1\"}}\n",
    "graph.get_state(config)"
   ]
  },
  {
   "cell_type": "markdown",
   "id": "0fad709a-7fc5-44a8-bee8-19948c282b6f",
   "metadata": {},
   "source": [
    "## get_state_history()"
   ]
  },
  {
   "cell_type": "code",
   "execution_count": 5,
   "id": "e457918d-46af-4a89-ae86-babf79ffd9ca",
   "metadata": {},
   "outputs": [],
   "source": [
    "config = {\"configurable\": {\"thread_id\": \"1\"}}\n",
    "sh = list(graph.get_state_history(config))"
   ]
  },
  {
   "cell_type": "code",
   "execution_count": 6,
   "id": "82b2044f-83eb-4bf8-9eaa-581d1bc99d8f",
   "metadata": {},
   "outputs": [
    {
     "name": "stdout",
     "output_type": "stream",
     "text": [
      "StateSnapshot(values={'foo': 'b', 'bar': ['a', 'b']}, next=(), config={'configurable': {'thread_id': '1', 'checkpoint_ns': '', 'checkpoint_id': '1f0aece3-37b4-6b96-8002-f1f377d8e17b'}}, metadata={'source': 'loop', 'step': 2, 'parents': {}}, created_at='2025-10-21T22:35:09.869965+00:00', parent_config={'configurable': {'thread_id': '1', 'checkpoint_ns': '', 'checkpoint_id': '1f0aece3-37b2-6de6-8001-f810b58e035b'}}, tasks=(), interrupts=())\n",
      "\n",
      "StateSnapshot(values={'foo': 'a', 'bar': ['a']}, next=('node_b',), config={'configurable': {'thread_id': '1', 'checkpoint_ns': '', 'checkpoint_id': '1f0aece3-37b2-6de6-8001-f810b58e035b'}}, metadata={'source': 'loop', 'step': 1, 'parents': {}}, created_at='2025-10-21T22:35:09.869204+00:00', parent_config={'configurable': {'thread_id': '1', 'checkpoint_ns': '', 'checkpoint_id': '1f0aece3-37af-67e0-8000-3664b3020c46'}}, tasks=(PregelTask(id='96432a81-07a4-ee7e-6403-9b5a531f261b', name='node_b', path=('__pregel_pull', 'node_b'), error=None, interrupts=(), state=None, result={'foo': 'b', 'bar': ['b']}),), interrupts=())\n",
      "\n",
      "StateSnapshot(values={'foo': 'begin', 'bar': []}, next=('node_a',), config={'configurable': {'thread_id': '1', 'checkpoint_ns': '', 'checkpoint_id': '1f0aece3-37af-67e0-8000-3664b3020c46'}}, metadata={'source': 'loop', 'step': 0, 'parents': {}}, created_at='2025-10-21T22:35:09.867820+00:00', parent_config={'configurable': {'thread_id': '1', 'checkpoint_ns': '', 'checkpoint_id': '1f0aece3-37ab-691a-bfff-8c3481b80209'}}, tasks=(PregelTask(id='21e1b1c5-0523-ae1f-2d06-fe14ce9818b6', name='node_a', path=('__pregel_pull', 'node_a'), error=None, interrupts=(), state=None, result={'foo': 'a', 'bar': ['a']}),), interrupts=())\n",
      "\n",
      "StateSnapshot(values={'bar': []}, next=('__start__',), config={'configurable': {'thread_id': '1', 'checkpoint_ns': '', 'checkpoint_id': '1f0aece3-37ab-691a-bfff-8c3481b80209'}}, metadata={'source': 'input', 'step': -1, 'parents': {}}, created_at='2025-10-21T22:35:09.866213+00:00', parent_config=None, tasks=(PregelTask(id='d3523fae-15e4-b347-9756-b79d8d6b5db1', name='__start__', path=('__pregel_pull', '__start__'), error=None, interrupts=(), state=None, result={'foo': 'begin'}),), interrupts=())\n",
      "\n"
     ]
    }
   ],
   "source": [
    "for s in sh:\n",
    "    print( s)\n",
    "    print()"
   ]
  },
  {
   "cell_type": "code",
   "execution_count": 7,
   "id": "9ae4418e-1d2f-4ba1-8d08-be77efb04311",
   "metadata": {},
   "outputs": [
    {
     "data": {
      "text/plain": [
       "PregelTask(id='96432a81-07a4-ee7e-6403-9b5a531f261b', name='node_b', path=('__pregel_pull', 'node_b'), error=None, interrupts=(), state=None, result={'foo': 'b', 'bar': ['b']})"
      ]
     },
     "execution_count": 7,
     "metadata": {},
     "output_type": "execute_result"
    }
   ],
   "source": [
    "sh[-3].tasks[0]\n",
    "\n"
   ]
  },
  {
   "cell_type": "code",
   "execution_count": 8,
   "id": "f9201cf2-0dfd-4866-ab4f-4754cb77de1a",
   "metadata": {},
   "outputs": [
    {
     "data": {
      "text/plain": [
       "StateSnapshot(values={'bar': []}, next=('__start__',), config={'configurable': {'thread_id': '1', 'checkpoint_ns': '', 'checkpoint_id': '1f0aece3-37ab-691a-bfff-8c3481b80209'}}, metadata={'source': 'input', 'step': -1, 'parents': {}}, created_at='2025-10-21T22:35:09.866213+00:00', parent_config=None, tasks=(PregelTask(id='d3523fae-15e4-b347-9756-b79d8d6b5db1', name='__start__', path=('__pregel_pull', '__start__'), error=None, interrupts=(), state=None, result={'foo': 'begin'}),), interrupts=())"
      ]
     },
     "execution_count": 8,
     "metadata": {},
     "output_type": "execute_result"
    }
   ],
   "source": [
    "sh[-1]"
   ]
  },
  {
   "cell_type": "code",
   "execution_count": null,
   "id": "f481371b-6de7-443a-b84e-e94ef17860a1",
   "metadata": {},
   "outputs": [],
   "source": [
    "sh[-2]  # start of node a i think"
   ]
  },
  {
   "cell_type": "code",
   "execution_count": 10,
   "id": "a253f8c9-75bb-4ed3-bda8-c419721cdae1",
   "metadata": {},
   "outputs": [
    {
     "name": "stdout",
     "output_type": "stream",
     "text": [
      "-4:0:2 e17b () {'foo': 'b', 'bar': ['a', 'b']}\n",
      "-3:1:1 035b ('node_b',) {'foo': 'a', 'bar': ['a']}\n",
      "         task[0] name=node_b result={'foo': 'b', 'bar': ['b']}\n",
      "-2:2:0 0c46 ('node_a',) {'foo': 'begin', 'bar': []}\n",
      "         task[0] name=node_a result={'foo': 'a', 'bar': ['a']}\n",
      "-1:3:-1 0209 ('__start__',) {'bar': []}\n",
      "         task[0] name=__start__ result={'foo': 'begin'}\n"
     ]
    }
   ],
   "source": [
    "shst(config, verbose=True)"
   ]
  },
  {
   "cell_type": "markdown",
   "id": "362764f7-51fd-43f7-9997-849eea71db70",
   "metadata": {},
   "source": [
    "## replay"
   ]
  },
  {
   "cell_type": "code",
   "execution_count": 85,
   "id": "450ac739-869e-4c6b-9c33-7bfe6cbb8968",
   "metadata": {},
   "outputs": [
    {
     "data": {
      "text/plain": [
       "{'configurable': {'thread_id': '1',\n",
       "  'checkpoint_ns': '',\n",
       "  'checkpoint_id': '1f0ae890-861d-6b5e-bfff-573174232288'}}"
      ]
     },
     "execution_count": 85,
     "metadata": {},
     "output_type": "execute_result"
    }
   ],
   "source": [
    "config = {\"configurable\": {\"thread_id\": \"1\"}}\n",
    "sh = list(graph.get_state_history(config))\n",
    "\n",
    "nda_config = sh[-1].config\n",
    "nda_config"
   ]
  },
  {
   "cell_type": "code",
   "execution_count": 86,
   "id": "a04d1af1-12fb-4cfa-b11b-8f038ea5ba5c",
   "metadata": {},
   "outputs": [
    {
     "data": {
      "text/plain": [
       "StateSnapshot(values={'bar': []}, next=('__start__',), config={'configurable': {'thread_id': '1', 'checkpoint_ns': '', 'checkpoint_id': '1f0ae890-861d-6b5e-bfff-573174232288'}}, metadata={'source': 'input', 'step': -1, 'parents': {}}, created_at='2025-10-21T14:20:02.286872+00:00', parent_config=None, tasks=(PregelTask(id='8b0ded22-5667-d623-5d2d-badfba9522c2', name='__start__', path=('__pregel_pull', '__start__'), error=None, interrupts=(), state=None, result={'foo': 'begin'}),), interrupts=())"
      ]
     },
     "execution_count": 86,
     "metadata": {},
     "output_type": "execute_result"
    }
   ],
   "source": [
    "sh[-1]"
   ]
  },
  {
   "cell_type": "code",
   "execution_count": 87,
   "id": "25a18bac-06cd-4740-af48-5a1dcc7d5e39",
   "metadata": {},
   "outputs": [
    {
     "name": "stdout",
     "output_type": "stream",
     "text": [
      "Node a receiving state {'foo': 'begin', 'bar': []}\n",
      "Node b receiving state {'foo': 'a', 'bar': ['a']}\n"
     ]
    },
    {
     "data": {
      "text/plain": [
       "{'foo': 'b', 'bar': ['a', 'b']}"
      ]
     },
     "execution_count": 87,
     "metadata": {},
     "output_type": "execute_result"
    }
   ],
   "source": [
    "graph.invoke(None, config=nda_config)"
   ]
  },
  {
   "cell_type": "code",
   "execution_count": 88,
   "id": "1ac474d4-f2fb-4644-9fb7-d2a9038e9f8e",
   "metadata": {},
   "outputs": [
    {
     "name": "stdout",
     "output_type": "stream",
     "text": [
      "-7:0 a8e1 () {'foo': 'b', 'bar': ['a', 'b']}\n",
      "-6:1 4a53 ('node_b',) {'foo': 'a', 'bar': ['a']}\n",
      "     task[0] name=node_b result={'foo': 'b', 'bar': ['b']}\n",
      "-5:2 b07e ('node_a',) {'foo': 'begin', 'bar': []}\n",
      "     task[0] name=node_a result={'foo': 'a', 'bar': ['a']}\n",
      "-4:3 a2ca () {'foo': 'b', 'bar': ['a', 'b']}\n",
      "-3:4 e40d ('node_b',) {'foo': 'a', 'bar': ['a']}\n",
      "     task[0] name=node_b result={'foo': 'b', 'bar': ['b']}\n",
      "-2:5 f8aa ('node_a',) {'foo': 'begin', 'bar': []}\n",
      "     task[0] name=node_a result={'foo': 'a', 'bar': ['a']}\n",
      "-1:6 2288 ('__start__',) {'bar': []}\n",
      "     task[0] name=__start__ result={'foo': 'begin'}\n"
     ]
    }
   ],
   "source": [
    "shst(config)"
   ]
  },
  {
   "cell_type": "markdown",
   "id": "b29c786d-3fa5-4020-b167-34946786edba",
   "metadata": {},
   "source": [
    "## Update state\n",
    "There are 4 things to consider about `update_state`.\n",
    "\n",
    "- what is returned by the function\n",
    "- reducer behavior\n",
    "- invoking with/without a checkpoint\n",
    "- as node behavior"
   ]
  },
  {
   "cell_type": "code",
   "execution_count": 11,
   "id": "c8a5d96e-b742-4f5d-8a8d-0dcdbf4ea6c9",
   "metadata": {},
   "outputs": [
    {
     "name": "stdout",
     "output_type": "stream",
     "text": [
      "Node a receiving state {'foo': 'begin', 'bar': []}\n",
      "Node b receiving state {'foo': 'a', 'bar': ['a']}\n"
     ]
    }
   ],
   "source": [
    "## start clean\n",
    "import uuid\n",
    "thread_id = uuid.uuid4().hex[-4:] # so we start fresh each time we run this\n",
    "\n",
    "config: RunnableConfig = {\"configurable\": {\"thread_id\": thread_id}}\n",
    "graph.invoke({\"foo\": \"begin\"}, config)\n",
    "sh = list(graph.get_state_history(config))"
   ]
  },
  {
   "cell_type": "code",
   "execution_count": 13,
   "id": "013bc023-4c5d-47b5-8151-54d45dfbb987",
   "metadata": {},
   "outputs": [
    {
     "name": "stdout",
     "output_type": "stream",
     "text": [
      "-4:0:2 1ace () {'foo': 'b', 'bar': ['a', 'b']}\n",
      "-3:1:1 5c69 ('node_b',) {'foo': 'a', 'bar': ['a']}\n",
      "         task[0] name=node_b result={'foo': 'b', 'bar': ['b']}\n",
      "-2:2:0 1603 ('node_a',) {'foo': 'begin', 'bar': []}\n",
      "         task[0] name=node_a result={'foo': 'a', 'bar': ['a']}\n",
      "-1:3:-1 faf0 ('__start__',) {'bar': []}\n",
      "         task[0] name=__start__ result={'foo': 'begin'}\n"
     ]
    }
   ],
   "source": [
    "shst(config, verbose=True)"
   ]
  },
  {
   "cell_type": "markdown",
   "id": "3e29acd2-a268-405a-9fa7-572c18af228f",
   "metadata": {},
   "source": [
    "### What does update_state return? How is state updated (reducers)?\n",
    "`update_state` generates a new checkpoint and returns a config whose `checkpoint_id` points to that checkpoint.\n",
    "This example will also illustrate how state is updated."
   ]
  },
  {
   "cell_type": "markdown",
   "id": "166bf560-5fea-4e87-9141-0ffb7840bc17",
   "metadata": {},
   "source": [
    "#### Update state - no checkpoint id"
   ]
  },
  {
   "cell_type": "code",
   "execution_count": 167,
   "id": "73d34354-cd2a-4876-9cf8-1974f31a65f3",
   "metadata": {},
   "outputs": [
    {
     "data": {
      "text/plain": [
       "{'configurable': {'thread_id': '875b'}}"
      ]
     },
     "execution_count": 167,
     "metadata": {},
     "output_type": "execute_result"
    }
   ],
   "source": [
    "config"
   ]
  },
  {
   "cell_type": "code",
   "execution_count": 168,
   "id": "a98f42a2-294d-46fb-88cd-317109afac2b",
   "metadata": {},
   "outputs": [
    {
     "data": {
      "text/plain": [
       "{'configurable': {'thread_id': '875b',\n",
       "  'checkpoint_ns': '',\n",
       "  'checkpoint_id': '1f0ae9e7-71c2-608a-8003-f8bcc071347a'}}"
      ]
     },
     "execution_count": 168,
     "metadata": {},
     "output_type": "execute_result"
    }
   ],
   "source": [
    "new_config = graph.update_state(config, {\"foo\": 12, \"bar\": [\"fly\"]})\n",
    "new_config"
   ]
  },
  {
   "cell_type": "code",
   "execution_count": 169,
   "id": "30fe122f-b6f0-4a80-a0aa-5973abe88888",
   "metadata": {},
   "outputs": [
    {
     "name": "stdout",
     "output_type": "stream",
     "text": [
      "-5:0:3 347a () {'foo': 12, 'bar': ['a', 'b', 'fly']}\n",
      "-4:1:2 06c4 () {'foo': 'b', 'bar': ['a', 'b']}\n",
      "-3:2:1 33f6 ('node_b',) {'foo': 'a', 'bar': ['a']}\n",
      "-2:3:0 a293 ('node_a',) {'foo': 'begin', 'bar': []}\n",
      "-1:4:-1 b613 ('__start__',) {'bar': []}\n"
     ]
    }
   ],
   "source": [
    "shst(config)"
   ]
  },
  {
   "cell_type": "markdown",
   "id": "b08615ab-9bc1-43f6-af0f-bbdb8fc731b2",
   "metadata": {},
   "source": [
    "Note there is a new checkpoint. It is the 'current' checkpoint."
   ]
  },
  {
   "cell_type": "code",
   "execution_count": 170,
   "id": "56aacb6e-8657-4381-9dd9-ec5ea2fa4dbb",
   "metadata": {},
   "outputs": [
    {
     "data": {
      "text/plain": [
       "StateSnapshot(values={'foo': 12, 'bar': ['a', 'b', 'fly']}, next=(), config={'configurable': {'thread_id': '875b', 'checkpoint_ns': '', 'checkpoint_id': '1f0ae9e7-71c2-608a-8003-f8bcc071347a'}}, metadata={'source': 'update', 'step': 3, 'parents': {}}, created_at='2025-10-21T16:53:27.488298+00:00', parent_config={'configurable': {'thread_id': '875b', 'checkpoint_ns': '', 'checkpoint_id': '1f0ae9e7-51b1-6a5c-8002-fdd1197706c4'}}, tasks=(), interrupts=())"
      ]
     },
     "execution_count": 170,
     "metadata": {},
     "output_type": "execute_result"
    }
   ],
   "source": [
    "sh = list(graph.get_state_history(config))\n",
    "sh[-5]"
   ]
  },
  {
   "cell_type": "markdown",
   "id": "d80a5273-2a7a-42c2-8453-c3861bf54192",
   "metadata": {},
   "source": [
    "Other things to note: \n",
    "- `next` is not set. If you invoke from here, the graph does not run. ***??? Double check ????***\n",
    "- `step` is 3, it is added as the next step.\n",
    "- `parents`: is empty, though `parent_config` is the previous current node as indicated by the `checkpoint_id`"
   ]
  },
  {
   "cell_type": "markdown",
   "id": "33c0acbb-239a-43e8-9b7b-d552284740b7",
   "metadata": {},
   "source": [
    "##### Over Ride Reducer?\n",
    "??? can you can override the reducer in for things other than message - todo"
   ]
  },
  {
   "cell_type": "markdown",
   "id": "8ae1ee08-1c0e-4619-975c-a587ead7bfa0",
   "metadata": {},
   "source": [
    "#### Update State - with a checkpoint id\n",
    "First, let's get a checkpoint ID."
   ]
  },
  {
   "cell_type": "code",
   "execution_count": 171,
   "id": "b8ea7c94-f979-49bd-a772-6965648458c5",
   "metadata": {},
   "outputs": [
    {
     "name": "stdout",
     "output_type": "stream",
     "text": [
      "-5:0:3 347a () {'foo': 12, 'bar': ['a', 'b', 'fly']}\n",
      "-4:1:2 06c4 () {'foo': 'b', 'bar': ['a', 'b']}\n",
      "-3:2:1 33f6 ('node_b',) {'foo': 'a', 'bar': ['a']}\n",
      "-2:3:0 a293 ('node_a',) {'foo': 'begin', 'bar': []}\n",
      "-1:4:-1 b613 ('__start__',) {'bar': []}\n"
     ]
    }
   ],
   "source": [
    "shst(config)"
   ]
  },
  {
   "cell_type": "markdown",
   "id": "fc911c7c-8b25-4719-8e92-9c40ca4f7103",
   "metadata": {},
   "source": [
    "Let's update state -2. Note, its `next` field is `node_a`."
   ]
  },
  {
   "cell_type": "code",
   "execution_count": 172,
   "id": "5a9328e3-13f0-414b-9c01-a5e27b0e77d0",
   "metadata": {},
   "outputs": [
    {
     "data": {
      "text/plain": [
       "StateSnapshot(values={'foo': 'begin', 'bar': []}, next=('node_a',), config={'configurable': {'thread_id': '875b', 'checkpoint_ns': '', 'checkpoint_id': '1f0ae9e7-51a7-6688-8000-30b5972aa293'}}, metadata={'source': 'loop', 'step': 0, 'parents': {}}, created_at='2025-10-21T16:53:24.121953+00:00', parent_config={'configurable': {'thread_id': '875b', 'checkpoint_ns': '', 'checkpoint_id': '1f0ae9e7-51a1-6b34-bfff-22aa6fccb613'}}, tasks=(PregelTask(id='245fbc47-587d-b6ac-4039-5b646dbbe890', name='node_a', path=('__pregel_pull', 'node_a'), error=None, interrupts=(), state=None, result={'foo': 'a', 'bar': ['a']}),), interrupts=())"
      ]
     },
     "execution_count": 172,
     "metadata": {},
     "output_type": "execute_result"
    }
   ],
   "source": [
    "sh = list(graph.get_state_history(config))\n",
    "sh[-2]"
   ]
  },
  {
   "cell_type": "code",
   "execution_count": 173,
   "id": "7251f032-d26d-43c1-b194-06457d111a39",
   "metadata": {},
   "outputs": [
    {
     "data": {
      "text/plain": [
       "{'configurable': {'thread_id': '875b',\n",
       "  'checkpoint_ns': '',\n",
       "  'checkpoint_id': '1f0ae9e7-51a7-6688-8000-30b5972aa293'}}"
      ]
     },
     "execution_count": 173,
     "metadata": {},
     "output_type": "execute_result"
    }
   ],
   "source": [
    "u_config = sh[-2].config\n",
    "u_config"
   ]
  },
  {
   "cell_type": "markdown",
   "id": "992a997c-049a-4a41-aa5f-93b20c79f8bc",
   "metadata": {},
   "source": [
    "Ok, now we have a `update config` with a checkpoint ID."
   ]
  },
  {
   "cell_type": "code",
   "execution_count": 174,
   "id": "a94ecda7-7c46-4edf-b87a-23f5008339ba",
   "metadata": {},
   "outputs": [
    {
     "data": {
      "text/plain": [
       "{'configurable': {'thread_id': '875b',\n",
       "  'checkpoint_ns': '',\n",
       "  'checkpoint_id': '1f0ae9e8-2dba-6044-8001-a8f10b25b054'}}"
      ]
     },
     "execution_count": 174,
     "metadata": {},
     "output_type": "execute_result"
    }
   ],
   "source": [
    "new_config = graph.update_state(u_config, {\"foo\": 42, \"bar\": [\"food\"]})\n",
    "new_config"
   ]
  },
  {
   "cell_type": "code",
   "execution_count": 175,
   "id": "6a981914-eba9-4ddb-8905-58c45e35d39c",
   "metadata": {},
   "outputs": [
    {
     "name": "stdout",
     "output_type": "stream",
     "text": [
      "-6:0:1 b054 ('node_b',) {'foo': 42, 'bar': ['a', 'food']}\n",
      "-5:1:3 347a () {'foo': 12, 'bar': ['a', 'b', 'fly']}\n",
      "-4:2:2 06c4 () {'foo': 'b', 'bar': ['a', 'b']}\n",
      "-3:3:1 33f6 ('node_b',) {'foo': 'a', 'bar': ['a']}\n",
      "-2:4:0 a293 ('node_a',) {'foo': 'begin', 'bar': []}\n",
      "-1:5:-1 b613 ('__start__',) {'bar': []}\n"
     ]
    }
   ],
   "source": [
    "shst(config)"
   ]
  },
  {
   "cell_type": "code",
   "execution_count": 177,
   "id": "5abbe566-63b3-4e4f-9d77-14ec82bb1013",
   "metadata": {},
   "outputs": [
    {
     "data": {
      "text/plain": [
       "StateSnapshot(values={'foo': 42, 'bar': ['a', 'food']}, next=('node_b',), config={'configurable': {'thread_id': '875b', 'checkpoint_ns': '', 'checkpoint_id': '1f0ae9e8-2dba-6044-8001-a8f10b25b054'}}, metadata={'source': 'update', 'step': 1, 'parents': {}}, created_at='2025-10-21T16:53:47.198249+00:00', parent_config={'configurable': {'thread_id': '875b', 'checkpoint_ns': '', 'checkpoint_id': '1f0ae9e7-51a7-6688-8000-30b5972aa293'}}, tasks=(PregelTask(id='02752b6e-ad42-48bb-7bc1-513202fde1de', name='node_b', path=('__pregel_pull', 'node_b'), error=None, interrupts=(), state=None, result=None),), interrupts=())"
      ]
     },
     "execution_count": 177,
     "metadata": {},
     "output_type": "execute_result"
    }
   ],
   "source": [
    "sh = list(graph.get_state_history(config))\n",
    "sh[-6]"
   ]
  },
  {
   "cell_type": "markdown",
   "id": "510e0dd3-03de-4c11-a81f-9f336861107a",
   "metadata": {},
   "source": [
    "Other things to note: \n",
    "- `next` is now set to `node_b`. If you invoke from here, the graph will start at `node_b`.\n",
    "- `step` is now 1. Graphs have a max steps count. This will enable additional steps (also will prevent you from hitting the max if this is repeated).\n",
    "- `parents`: is empty, though `parent_config` is the checkpoint the new checkpoint was based on."
   ]
  },
  {
   "cell_type": "markdown",
   "id": "3d8382c1-f664-4bc0-a052-97b203b8abc7",
   "metadata": {},
   "source": [
    "### Update_state: as_node\n",
    "`as_node` instructs the update to be done as if it were coming from a particular node. This is important because `next` is not static but is computed as part of the update. In our graph, an update from `__start__` will leave `next` set to `node_a` while an update with `as_node` set to `node_a` will leave `next` set to `node_b`.  Lets try this."
   ]
  },
  {
   "cell_type": "markdown",
   "id": "c041d69a-5bbb-46b3-9167-71477853d92d",
   "metadata": {},
   "source": [
    "#### Start Clean"
   ]
  },
  {
   "cell_type": "code",
   "execution_count": 23,
   "id": "d61aa47f-d4a3-4499-b9b4-6343710f3c8d",
   "metadata": {},
   "outputs": [
    {
     "name": "stdout",
     "output_type": "stream",
     "text": [
      "Node a receiving state {'foo': 'begin', 'bar': []}\n",
      "Node b receiving state {'foo': 'a', 'bar': ['a']}\n"
     ]
    },
    {
     "data": {
      "text/plain": [
       "{'foo': 'b', 'bar': ['a', 'b']}"
      ]
     },
     "execution_count": 23,
     "metadata": {},
     "output_type": "execute_result"
    }
   ],
   "source": [
    "## start clean\n",
    "import uuid\n",
    "thread_id = uuid.uuid4().hex[-4:] # so we start fresh each time we run this\n",
    "\n",
    "config: RunnableConfig = {\"configurable\": {\"thread_id\": thread_id}}\n",
    "graph.invoke({\"foo\": \"begin\"}, config)"
   ]
  },
  {
   "cell_type": "code",
   "execution_count": 24,
   "id": "eca18be8-a9dc-47af-9de2-2fd174281ac0",
   "metadata": {},
   "outputs": [
    {
     "name": "stdout",
     "output_type": "stream",
     "text": [
      "-4:0:2 6742 () {'foo': 'b', 'bar': ['a', 'b']}\n",
      "-3:1:1 0e77 ('node_b',) {'foo': 'a', 'bar': ['a']}\n",
      "         task[0] name=node_b result={'foo': 'b', 'bar': ['b']}\n",
      "-2:2:0 35f3 ('node_a',) {'foo': 'begin', 'bar': []}\n",
      "         task[0] name=node_a result={'foo': 'a', 'bar': ['a']}\n",
      "-1:3:-1 5d92 ('__start__',) {'bar': []}\n",
      "         task[0] name=__start__ result={'foo': 'begin'}\n"
     ]
    }
   ],
   "source": [
    "shst(config, verbose=True)"
   ]
  },
  {
   "cell_type": "markdown",
   "id": "72482c63-910e-4664-a667-0527838a35fb",
   "metadata": {},
   "source": [
    "Lets update state using [-2] as our starting point."
   ]
  },
  {
   "cell_type": "code",
   "execution_count": 29,
   "id": "61a36b6f-1346-426b-b8c1-34a08ac45312",
   "metadata": {},
   "outputs": [
    {
     "data": {
      "text/plain": [
       "StateSnapshot(values={'foo': 'begin', 'bar': []}, next=('node_a',), config={'configurable': {'thread_id': 'e633', 'checkpoint_ns': '', 'checkpoint_id': '1f0aeced-56ef-65ec-8000-98df6ef135f3'}}, metadata={'source': 'loop', 'step': 0, 'parents': {}}, created_at='2025-10-21T22:39:41.580021+00:00', parent_config={'configurable': {'thread_id': 'e633', 'checkpoint_ns': '', 'checkpoint_id': '1f0aeced-56ec-6e64-bfff-aa26af7b5d92'}}, tasks=(PregelTask(id='3dbda42f-e594-1846-a64f-75d38056c2a6', name='node_a', path=('__pregel_pull', 'node_a'), error=None, interrupts=(), state=None, result={'foo': 'a', 'bar': ['a']}),), interrupts=())"
      ]
     },
     "execution_count": 29,
     "metadata": {},
     "output_type": "execute_result"
    }
   ],
   "source": [
    "sh = list(graph.get_state_history(config))\n",
    "u_config = sh[-2].config\n",
    "graph.get_state(u_config)"
   ]
  },
  {
   "cell_type": "code",
   "execution_count": 26,
   "id": "72c9dc69-c018-4d99-9f07-8a7286b9a9e1",
   "metadata": {},
   "outputs": [
    {
     "name": "stdout",
     "output_type": "stream",
     "text": [
      "__start__\n",
      "1 904b ('node_a',) {'foo': 42, 'bar': ['a', 'as_node __start__']}\n",
      "node_a\n",
      "1 197b ('node_b',) {'foo': 43, 'bar': ['a', 'as_node node_a']}\n",
      "node_b\n",
      "1 c537 () {'foo': 44, 'bar': ['a', 'as_node node_b']}\n"
     ]
    }
   ],
   "source": [
    "for i, node in enumerate(graph.nodes):\n",
    "    print(node)\n",
    "    # create a new checkpoint\n",
    "    new_config = graph.update_state(u_config, {\"foo\": 42+i, \"bar\": [f\"as_node {node}\"]}, as_node=node)\n",
    "    s = graph.get_state(new_config)\n",
    "    print(f'{s.metadata.get(\"step\")}', s.config[\"configurable\"][\"checkpoint_id\"][-4:],s.next, s.values)\n"
   ]
  },
  {
   "cell_type": "code",
   "execution_count": 27,
   "id": "45be5d48-15e0-40f4-bc66-bf482fd90289",
   "metadata": {},
   "outputs": [
    {
     "name": "stdout",
     "output_type": "stream",
     "text": [
      "-7:0:1 c537 () {'foo': 44, 'bar': ['a', 'as_node node_b']}\n",
      "-6:1:1 197b ('node_b',) {'foo': 43, 'bar': ['a', 'as_node node_a']}\n",
      "         task[0] name=node_b result=None\n",
      "-5:2:1 904b ('node_a',) {'foo': 42, 'bar': ['a', 'as_node __start__']}\n",
      "         task[0] name=node_a result=None\n",
      "-4:3:2 6742 () {'foo': 'b', 'bar': ['a', 'b']}\n",
      "-3:4:1 0e77 ('node_b',) {'foo': 'a', 'bar': ['a']}\n",
      "         task[0] name=node_b result={'foo': 'b', 'bar': ['b']}\n",
      "-2:5:0 35f3 ('node_a',) {'foo': 'begin', 'bar': []}\n",
      "         task[0] name=node_a result={'foo': 'a', 'bar': ['a']}\n",
      "-1:6:-1 5d92 ('__start__',) {'bar': []}\n",
      "         task[0] name=__start__ result={'foo': 'begin'}\n"
     ]
    }
   ],
   "source": [
    "shst(config,verbose=True)"
   ]
  },
  {
   "cell_type": "code",
   "execution_count": null,
   "id": "6b95005c-e0e7-4144-9388-4a6d6e5cc173",
   "metadata": {},
   "outputs": [],
   "source": []
  },
  {
   "cell_type": "code",
   "execution_count": null,
   "id": "a92355fb-4187-496a-96b0-233249d4eab7",
   "metadata": {},
   "outputs": [],
   "source": []
  },
  {
   "cell_type": "code",
   "execution_count": null,
   "id": "700e06fb-078c-4233-b392-fe2bfc020816",
   "metadata": {},
   "outputs": [],
   "source": []
  },
  {
   "cell_type": "markdown",
   "id": "85ba286e-12b3-41b6-9679-5517b226fb95",
   "metadata": {},
   "source": [
    "### Invoking\n",
    "- ```graph.invoke(None,config)``` - The `None` indicates the graph should _resume_ operation vs start.\n",
    "    - if config contains a thread but _no checkpoint_, operation resumes from the last checkpoint or \"current state\"\n",
    "    - If config contains a thread and _a checkpoint_, then operation will resume from that checkpoint.\n",
    "    - \n",
    "What does 'from that checkpoint' mean? A checkpoint contains state at the end of a super step. So, this is like normal operation. The next field indicates the next node, and the state is supplied as the initial state to that node.\n",
    "\n",
    "??? are results copied?, what about map reduce - what does 'next' look like there. "
   ]
  },
  {
   "cell_type": "code",
   "execution_count": 192,
   "id": "d200b3b0-9a68-4cf8-bf46-2a8b6f0d6998",
   "metadata": {},
   "outputs": [
    {
     "data": {
      "text/plain": [
       "{'__start__': <langgraph.pregel._read.PregelNode at 0x10b382b10>,\n",
       " 'node_a': <langgraph.pregel._read.PregelNode at 0x10b381c10>,\n",
       " 'node_b': <langgraph.pregel._read.PregelNode at 0x10b381f10>}"
      ]
     },
     "execution_count": 192,
     "metadata": {},
     "output_type": "execute_result"
    }
   ],
   "source": []
  },
  {
   "cell_type": "markdown",
   "id": "74d77a50-df77-49af-a2f3-01284da0fdb9",
   "metadata": {},
   "source": [
    "We can invoke this, but, because `next` is empty, it does not invoke the graph again."
   ]
  },
  {
   "cell_type": "code",
   "execution_count": 137,
   "id": "61f2f525-cbf0-42a6-9e36-c70930bb83ae",
   "metadata": {},
   "outputs": [
    {
     "data": {
      "text/plain": [
       "{'foo': 12, 'bar': ['a', 'b', 'fly']}"
      ]
     },
     "execution_count": 137,
     "metadata": {},
     "output_type": "execute_result"
    }
   ],
   "source": [
    "graph.invoke(None, config=new_config)"
   ]
  },
  {
   "cell_type": "code",
   "execution_count": 138,
   "id": "db9eb52f-544e-4762-b766-4c7219ba899a",
   "metadata": {},
   "outputs": [
    {
     "name": "stdout",
     "output_type": "stream",
     "text": [
      "-5:0:3 ead8 () {'foo': 12, 'bar': ['a', 'b', 'fly']}\n",
      "-4:1:2 d8a4 () {'foo': 'b', 'bar': ['a', 'b']}\n",
      "-3:2:1 2dff ('node_b',) {'foo': 'a', 'bar': ['a']}\n",
      "-2:3:0 8d33 ('node_a',) {'foo': 'begin', 'bar': []}\n",
      "-1:4:-1 91d2 ('__start__',) {'bar': []}\n"
     ]
    }
   ],
   "source": [
    "shst(config)"
   ]
  },
  {
   "cell_type": "markdown",
   "id": "b14b008c-f304-42f2-93cb-b74d77c97cae",
   "metadata": {},
   "source": [
    "#### Start Clean"
   ]
  },
  {
   "cell_type": "code",
   "execution_count": 179,
   "id": "f1f94f34-bdd6-4f74-a7a8-90d83e8df8e9",
   "metadata": {},
   "outputs": [
    {
     "name": "stdout",
     "output_type": "stream",
     "text": [
      "Node a receiving state {'foo': 'begin', 'bar': []}\n",
      "Node b receiving state {'foo': 'a', 'bar': ['a']}\n"
     ]
    }
   ],
   "source": [
    "## start clean\n",
    "import uuid\n",
    "thread_id = uuid.uuid4().hex[-4:] # so we start fresh each time we run this\n",
    "\n",
    "config: RunnableConfig = {\"configurable\": {\"thread_id\": thread_id}}\n",
    "graph.invoke({\"foo\": \"begin\"}, config)\n",
    "sh = list(graph.get_state_history(config))"
   ]
  },
  {
   "cell_type": "code",
   "execution_count": 180,
   "id": "695d205c-0837-4ffd-be58-fb5cf92109dd",
   "metadata": {},
   "outputs": [
    {
     "name": "stdout",
     "output_type": "stream",
     "text": [
      "-4:0:2 551d () {'foo': 'b', 'bar': ['a', 'b']}\n",
      "-3:1:1 03be ('node_b',) {'foo': 'a', 'bar': ['a']}\n",
      "-2:2:0 dd6b ('node_a',) {'foo': 'begin', 'bar': []}\n",
      "-1:3:-1 3507 ('__start__',) {'bar': []}\n"
     ]
    }
   ],
   "source": [
    "shst(config)"
   ]
  },
  {
   "cell_type": "markdown",
   "id": "ae68bcb8-8e06-4174-b43d-17ea7bcf12ef",
   "metadata": {},
   "source": [
    "Lets update state before entering `node_a`. This is a index -2.\n",
    "Recall we must get the config and checkpoint like this:"
   ]
  },
  {
   "cell_type": "code",
   "execution_count": 181,
   "id": "32026c05-b7f2-4825-917b-b55f758d99b0",
   "metadata": {},
   "outputs": [],
   "source": [
    "sh = list(graph.get_state_history(config))\n",
    "u_config = sh[-2].config"
   ]
  },
  {
   "cell_type": "code",
   "execution_count": 182,
   "id": "136a3183-0e4e-4143-aa85-e5a2a97bc4c2",
   "metadata": {},
   "outputs": [
    {
     "data": {
      "text/plain": [
       "{'configurable': {'thread_id': 'be69',\n",
       "  'checkpoint_ns': '',\n",
       "  'checkpoint_id': '1f0aea36-5705-6810-8000-37f8d6dcdd6b'}}"
      ]
     },
     "execution_count": 182,
     "metadata": {},
     "output_type": "execute_result"
    }
   ],
   "source": [
    "u_config"
   ]
  },
  {
   "cell_type": "markdown",
   "id": "f7e53bd5-3a73-406a-a3de-71f46b4cc7b0",
   "metadata": {},
   "source": [
    "We can take a look at that state, double-check the next is `node_a`."
   ]
  },
  {
   "cell_type": "code",
   "execution_count": 184,
   "id": "94fea0a4-2087-4445-b369-7cfa47a4e29a",
   "metadata": {},
   "outputs": [
    {
     "data": {
      "text/plain": [
       "StateSnapshot(values={'foo': 'begin', 'bar': []}, next=('node_a',), config={'configurable': {'thread_id': 'be69', 'checkpoint_ns': '', 'checkpoint_id': '1f0aea36-5705-6810-8000-37f8d6dcdd6b'}}, metadata={'source': 'loop', 'step': 0, 'parents': {}}, created_at='2025-10-21T17:28:45.324894+00:00', parent_config={'configurable': {'thread_id': 'be69', 'checkpoint_ns': '', 'checkpoint_id': '1f0aea36-56fb-69fa-bfff-93688d803507'}}, tasks=(PregelTask(id='f2e29fe0-2cfc-1d39-6947-85615c14b49c', name='node_a', path=('__pregel_pull', 'node_a'), error=None, interrupts=(), state=None, result={'foo': 'a', 'bar': ['a']}),), interrupts=())"
      ]
     },
     "execution_count": 184,
     "metadata": {},
     "output_type": "execute_result"
    }
   ],
   "source": [
    "graph.get_state(u_config)"
   ]
  },
  {
   "cell_type": "code",
   "execution_count": 185,
   "id": "d5fa327c-194a-4cc5-b783-4a6062f10a4c",
   "metadata": {},
   "outputs": [],
   "source": [
    "new_config = graph.update_state(u_config, {\"foo\": 67, \"bar\": [\"oque\"]})"
   ]
  },
  {
   "cell_type": "markdown",
   "id": "c0b86618-922d-4dda-84cf-df33baee3e2c",
   "metadata": {},
   "source": [
    "Let's check our new checkpoint:"
   ]
  },
  {
   "cell_type": "code",
   "execution_count": 186,
   "id": "8effc730-e7a2-4134-8285-db26b9823ba2",
   "metadata": {},
   "outputs": [
    {
     "data": {
      "text/plain": [
       "StateSnapshot(values={'foo': 67, 'bar': ['a', 'oque']}, next=('node_b',), config={'configurable': {'thread_id': 'be69', 'checkpoint_ns': '', 'checkpoint_id': '1f0aeb35-6708-64c4-8001-05a5a211c3f0'}}, metadata={'source': 'update', 'step': 1, 'parents': {}}, created_at='2025-10-21T19:22:52.107883+00:00', parent_config={'configurable': {'thread_id': 'be69', 'checkpoint_ns': '', 'checkpoint_id': '1f0aea36-5705-6810-8000-37f8d6dcdd6b'}}, tasks=(PregelTask(id='989b4c96-0889-27da-e477-c46d4e20f909', name='node_b', path=('__pregel_pull', 'node_b'), error=None, interrupts=(), state=None, result=None),), interrupts=())"
      ]
     },
     "execution_count": 186,
     "metadata": {},
     "output_type": "execute_result"
    }
   ],
   "source": [
    "graph.get_state(new_config)"
   ]
  },
  {
   "cell_type": "code",
   "execution_count": 188,
   "id": "16139cdb-d593-4669-8452-1dff0ab78ca4",
   "metadata": {},
   "outputs": [
    {
     "name": "stdout",
     "output_type": "stream",
     "text": [
      "-5:0:1 c3f0 ('node_b',) {'foo': 67, 'bar': ['a', 'oque']}\n",
      "-4:1:2 551d () {'foo': 'b', 'bar': ['a', 'b']}\n",
      "-3:2:1 03be ('node_b',) {'foo': 'a', 'bar': ['a']}\n",
      "-2:3:0 dd6b ('node_a',) {'foo': 'begin', 'bar': []}\n",
      "-1:4:-1 3507 ('__start__',) {'bar': []}\n"
     ]
    }
   ],
   "source": [
    "shst(config)  # state history of thread"
   ]
  },
  {
   "cell_type": "code",
   "execution_count": null,
   "id": "816d29f2-47ae-4a44-9942-9428f902a38b",
   "metadata": {},
   "outputs": [],
   "source": []
  }
 ],
 "metadata": {
  "kernelspec": {
   "display_name": "Python 3 (ipykernel)",
   "language": "python",
   "name": "python3"
  },
  "language_info": {
   "codemirror_mode": {
    "name": "ipython",
    "version": 3
   },
   "file_extension": ".py",
   "mimetype": "text/x-python",
   "name": "python",
   "nbconvert_exporter": "python",
   "pygments_lexer": "ipython3",
   "version": "3.13.5"
  }
 },
 "nbformat": 4,
 "nbformat_minor": 5
}
