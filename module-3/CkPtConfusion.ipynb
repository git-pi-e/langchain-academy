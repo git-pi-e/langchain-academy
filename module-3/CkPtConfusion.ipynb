{
 "cells": [
  {
   "cell_type": "code",
   "execution_count": 12,
   "id": "c2447b4a-115d-45d6-89c1-743ec3ecb310",
   "metadata": {},
   "outputs": [],
   "source": [
    "from dataclasses import is_dataclass, asdict\n",
    "from collections.abc import Mapping, Iterable\n",
    "from pprint import pprint\n",
    "\n",
    "_PRIMITIVES = (str, bytes, int, float, bool, type(None))\n",
    "\n",
    "def _shorten_id(s: str) -> str:\n",
    "    if not isinstance(s, str):\n",
    "        return s\n",
    "    return \"...\" + s[-4:] if len(s) >= 4 else \"...\" + s\n",
    "\n",
    "def _to_plain(x, _active=None, *, full_ids=False, parent_type=None):\n",
    "    # Primitives: never tracked for cycles\n",
    "    if isinstance(x, _PRIMITIVES):\n",
    "        return x\n",
    "\n",
    "    if _active is None:\n",
    "        _active = set()\n",
    "\n",
    "    oid = id(x)\n",
    "    if oid in _active:\n",
    "        return \"<…cycle…>\"\n",
    "    _active.add(oid)\n",
    "    try:\n",
    "        # Dataclasses\n",
    "        if is_dataclass(x):\n",
    "            data = asdict(x)\n",
    "            return {type(x).__name__: _to_plain(data, _active, full_ids=full_ids, parent_type=type(x).__name__)}\n",
    "\n",
    "        # Namedtuple / has _asdict\n",
    "        if hasattr(x, \"_asdict\"):\n",
    "            try:\n",
    "                data = x._asdict()\n",
    "                return {type(x).__name__: _to_plain(data, _active, full_ids=full_ids, parent_type=type(x).__name__)}\n",
    "            except Exception:\n",
    "                pass\n",
    "\n",
    "        # Mappings\n",
    "        if isinstance(x, Mapping):\n",
    "            out = {}\n",
    "            for k, v in x.items():\n",
    "                key_str = str(k)\n",
    "                if not full_ids:\n",
    "                    if key_str == \"checkpoint_id\" and isinstance(v, str):\n",
    "                        v = _shorten_id(v)\n",
    "                    elif key_str == \"id\" and parent_type == \"PregelTask\" and isinstance(v, str):\n",
    "                        v = _shorten_id(v)\n",
    "                out[key_str] = _to_plain(v, _active, full_ids=full_ids, parent_type=parent_type)\n",
    "            return out\n",
    "\n",
    "        # Iterables (lists/tuples/sets, etc.)\n",
    "        if isinstance(x, Iterable):\n",
    "            return [_to_plain(i, _active, full_ids=full_ids, parent_type=parent_type) for i in x]\n",
    "\n",
    "        # Generic objects\n",
    "        if hasattr(x, \"__dict__\"):\n",
    "            return {\n",
    "                type(x).__name__: {\n",
    "                    k: _to_plain(v, _active, full_ids=full_ids, parent_type=type(x).__name__)\n",
    "                    for k, v in x.__dict__.items()\n",
    "                    if not k.startswith(\"__\") and not callable(v)\n",
    "                }\n",
    "            }\n",
    "\n",
    "        # Fallback\n",
    "        return repr(x)\n",
    "    finally:\n",
    "        _active.remove(oid)\n",
    "\n",
    "def pretty_print_snapshot(snapshot, *, sort_dicts=True, width=100, full_ids=False):\n",
    "    pprint(_to_plain(snapshot, full_ids=full_ids), sort_dicts=sort_dicts, width=width)\n"
   ]
  },
  {
   "cell_type": "code",
   "execution_count": 2,
   "id": "94a07b0c-8dc4-4cf2-b3a9-ba6b3d31007a",
   "metadata": {},
   "outputs": [],
   "source": [
    "# Helper to briefly write ckpoint information\n",
    "def shst(config, verbose=False):\n",
    "    #config = {\"configurable\": {\"thread_id\": \"1\"}}\n",
    "    sh = list(graph.get_state_history(config))\n",
    "    lsh = len(sh)\n",
    "    for i, s in enumerate(sh):\n",
    "        #print(s)\n",
    "        print(f'{-(lsh-i)}:{i}:{s.metadata.get(\"step\")}', s.config[\"configurable\"][\"checkpoint_id\"][-4:],\n",
    "              s.next, s.values)\n",
    "        if verbose:\n",
    "            for i, t in enumerate(s.tasks or ()):\n",
    "                print(\"        \",f\"task[{i}] name={getattr(t, 'name', None)} result={getattr(t, 'result', None)}\")\n",
    "        #print(s.config[\"configurable\"][\"checkpoint_id\"])\n",
    "\n",
    "def sh_all_st(config):\n",
    "    sh = list(graph.get_state_history(config))\n",
    "    lsh = len(sh)\n",
    "    for i, s in enumerate(sh):\n",
    "        print(f'{-(lsh-i)}:{i}:{s.metadata.get(\"step\")}')\n",
    "        print(s)\n"
   ]
  },
  {
   "cell_type": "code",
   "execution_count": 3,
   "id": "c84271c7-0fdc-4707-b0c0-ae3c56dd3375",
   "metadata": {},
   "outputs": [
    {
     "data": {
      "image/png": "[encoded data removed]",
      "text/plain": [
       "<IPython.core.display.Image object>"
      ]
     },
     "metadata": {},
     "output_type": "display_data"
    },
    {
     "name": "stdout",
     "output_type": "stream",
     "text": [
      "Node a receiving state {'foo': 'begin', 'bar': []}\n",
      "Node b receiving state {'foo': 'a', 'bar': ['a']}\n"
     ]
    },
    {
     "data": {
      "text/plain": [
       "{'foo': 'b', 'bar': ['a', 'b']}"
      ]
     },
     "execution_count": 3,
     "metadata": {},
     "output_type": "execute_result"
    }
   ],
   "source": [
    "from langgraph.graph import StateGraph, START, END\n",
    "from langgraph.checkpoint.memory import InMemorySaver\n",
    "from langchain_core.runnables import RunnableConfig\n",
    "from typing import Annotated\n",
    "from typing_extensions import TypedDict\n",
    "from operator import add\n",
    "from IPython.display import Image, display\n",
    "\n",
    "class State(TypedDict):\n",
    "    foo: str \n",
    "    bar: Annotated[list[str], add]\n",
    "\n",
    "def node_a(state: State):\n",
    "    print(f\"Node a receiving state {state}\")\n",
    "    return {\"foo\": \"a\", \"bar\": [\"a\"]}\n",
    "\n",
    "def node_b(state: State):\n",
    "    print(f\"Node b receiving state {state}\")\n",
    "    return {\"foo\": \"b\", \"bar\": [\"b\"]}\n",
    "\n",
    "\n",
    "workflow = StateGraph(State)\n",
    "workflow.add_node(node_a)\n",
    "workflow.add_node(node_b)\n",
    "workflow.add_edge(START, \"node_a\")\n",
    "workflow.add_edge(\"node_a\", \"node_b\")\n",
    "workflow.add_edge(\"node_b\", END)\n",
    "\n",
    "checkpointer = InMemorySaver()\n",
    "graph = workflow.compile(checkpointer=checkpointer)\n",
    "display(Image(graph.get_graph().draw_mermaid_png()))\n",
    "config: RunnableConfig = {\"configurable\": {\"thread_id\": \"1\"}}\n",
    "graph.invoke({\"foo\": \"begin\"}, config)"
   ]
  },
  {
   "cell_type": "code",
   "execution_count": 4,
   "id": "f654ab3e-0278-464d-8f32-6a6ac408421a",
   "metadata": {},
   "outputs": [
    {
     "name": "stdout",
     "output_type": "stream",
     "text": [
      "-4:0:2 16f5 () {'foo': 'b', 'bar': ['a', 'b']}\n",
      "-3:1:1 479a ('node_b',) {'foo': 'a', 'bar': ['a']}\n",
      "-2:2:0 fda5 ('node_a',) {'foo': 'begin', 'bar': []}\n",
      "-1:3:-1 a754 ('__start__',) {'bar': []}\n"
     ]
    }
   ],
   "source": [
    "shst(config)"
   ]
  },
  {
   "cell_type": "markdown",
   "id": "c041d69a-5bbb-46b3-9167-71477853d92d",
   "metadata": {},
   "source": [
    "#### Start Clean"
   ]
  },
  {
   "cell_type": "code",
   "execution_count": 5,
   "id": "d61aa47f-d4a3-4499-b9b4-6343710f3c8d",
   "metadata": {},
   "outputs": [
    {
     "name": "stdout",
     "output_type": "stream",
     "text": [
      "Node a receiving state {'foo': 'begin', 'bar': []}\n",
      "Node b receiving state {'foo': 'a', 'bar': ['a']}\n"
     ]
    },
    {
     "data": {
      "text/plain": [
       "{'foo': 'b', 'bar': ['a', 'b']}"
      ]
     },
     "execution_count": 5,
     "metadata": {},
     "output_type": "execute_result"
    }
   ],
   "source": [
    "## start clean\n",
    "import uuid\n",
    "thread_id = uuid.uuid4().hex[-4:] # so we start fresh each time we run this\n",
    "\n",
    "config: RunnableConfig = {\"configurable\": {\"thread_id\": thread_id}}\n",
    "graph.invoke({\"foo\": \"begin\"}, config)"
   ]
  },
  {
   "cell_type": "code",
   "execution_count": 6,
   "id": "eca18be8-a9dc-47af-9de2-2fd174281ac0",
   "metadata": {},
   "outputs": [
    {
     "name": "stdout",
     "output_type": "stream",
     "text": [
      "-4:0:2 cc4e () {'foo': 'b', 'bar': ['a', 'b']}\n",
      "-3:1:1 fb0e ('node_b',) {'foo': 'a', 'bar': ['a']}\n",
      "         task[0] name=node_b result={'foo': 'b', 'bar': ['b']}\n",
      "-2:2:0 9d48 ('node_a',) {'foo': 'begin', 'bar': []}\n",
      "         task[0] name=node_a result={'foo': 'a', 'bar': ['a']}\n",
      "-1:3:-1 c10b ('__start__',) {'bar': []}\n",
      "         task[0] name=__start__ result={'foo': 'begin'}\n"
     ]
    }
   ],
   "source": [
    "shst(config, verbose=True)"
   ]
  },
  {
   "cell_type": "markdown",
   "id": "72482c63-910e-4664-a667-0527838a35fb",
   "metadata": {},
   "source": [
    "Lets update state using [-2] as our starting point."
   ]
  },
  {
   "cell_type": "code",
   "execution_count": 7,
   "id": "61a36b6f-1346-426b-b8c1-34a08ac45312",
   "metadata": {},
   "outputs": [
    {
     "data": {
      "text/plain": [
       "StateSnapshot(values={'foo': 'begin', 'bar': []}, next=('node_a',), config={'configurable': {'thread_id': '6a2c', 'checkpoint_ns': '', 'checkpoint_id': '1f0b01e1-c7c9-6dd6-8000-c0151cc79d48'}}, metadata={'source': 'loop', 'step': 0, 'parents': {}}, created_at='2025-10-23T14:39:42.192167+00:00', parent_config={'configurable': {'thread_id': '6a2c', 'checkpoint_ns': '', 'checkpoint_id': '1f0b01e1-c7c5-69ca-bfff-b030861bc10b'}}, tasks=(PregelTask(id='12ea5b4f-997b-bf1f-321d-c632b357bf20', name='node_a', path=('__pregel_pull', 'node_a'), error=None, interrupts=(), state=None, result={'foo': 'a', 'bar': ['a']}),), interrupts=())"
      ]
     },
     "execution_count": 7,
     "metadata": {},
     "output_type": "execute_result"
    }
   ],
   "source": [
    "sh = list(graph.get_state_history(config))\n",
    "u_config = sh[-2].config\n",
    "graph.get_state(u_config)"
   ]
  },
  {
   "cell_type": "code",
   "execution_count": 8,
   "id": "3679ba13-be59-422e-a994-256253b7e69a",
   "metadata": {},
   "outputs": [
    {
     "data": {
      "text/plain": [
       "StateSnapshot(values={'foo': 42, 'bar': ['a', 'oque']}, next=('node_a',), config={'configurable': {'thread_id': '6a2c', 'checkpoint_ns': '', 'checkpoint_id': '1f0b01e1-e25d-61e8-8001-7cc2b57582e1'}}, metadata={'source': 'update', 'step': 1, 'parents': {}}, created_at='2025-10-23T14:39:44.978775+00:00', parent_config={'configurable': {'thread_id': '6a2c', 'checkpoint_ns': '', 'checkpoint_id': '1f0b01e1-c7c9-6dd6-8000-c0151cc79d48'}}, tasks=(PregelTask(id='7905c6b9-2045-0146-9393-81b46a676b77', name='node_a', path=('__pregel_pull', 'node_a'), error=None, interrupts=(), state=None, result=None),), interrupts=())"
      ]
     },
     "execution_count": 8,
     "metadata": {},
     "output_type": "execute_result"
    }
   ],
   "source": [
    "new_config = graph.update_state(u_config, {\"foo\": 42, \"bar\": [f\"oque\"]}, as_node='__start__')\n",
    "graph.get_state(new_config)\n"
   ]
  },
  {
   "cell_type": "code",
   "execution_count": 9,
   "id": "45be5d48-15e0-40f4-bc66-bf482fd90289",
   "metadata": {},
   "outputs": [
    {
     "name": "stdout",
     "output_type": "stream",
     "text": [
      "-5:0:1 82e1 ('node_a',) {'foo': 42, 'bar': ['a', 'oque']}\n",
      "         task[0] name=node_a result=None\n",
      "-4:1:2 cc4e () {'foo': 'b', 'bar': ['a', 'b']}\n",
      "-3:2:1 fb0e ('node_b',) {'foo': 'a', 'bar': ['a']}\n",
      "         task[0] name=node_b result={'foo': 'b', 'bar': ['b']}\n",
      "-2:3:0 9d48 ('node_a',) {'foo': 'begin', 'bar': []}\n",
      "         task[0] name=node_a result={'foo': 'a', 'bar': ['a']}\n",
      "-1:4:-1 c10b ('__start__',) {'bar': []}\n",
      "         task[0] name=__start__ result={'foo': 'begin'}\n"
     ]
    }
   ],
   "source": [
    "shst(config,verbose=True)"
   ]
  },
  {
   "cell_type": "markdown",
   "id": "7a884816-19ef-4f52-adbf-6d05eb7b97af",
   "metadata": {},
   "source": [
    "The state prior to node_a - where node_a is the next value, is at -2.  \n",
    "The state at that point is ` {'foo': 'begin', 'bar': []}`  \n",
    "We updated that with update_state with `{\"foo\": 42, \"bar\": [f\"oque\"]}`.  \n",
    "The final state however, is `{'foo': 42, 'bar': ['a', 'oque']}`  with an extra 'a' in 'bar'.  \n",
    "The `result={'foo': 'a', 'bar': ['a']}` appears to be included in the update.\n"
   ]
  },
  {
   "cell_type": "markdown",
   "id": "ebad9ca2-3c86-4a16-9517-96a1a65e209a",
   "metadata": {},
   "source": [
    "This result is similar to the example of time travel in LangGraph module 3 where an extra AI message is appearing (That example is considerably more complex)."
   ]
  },
  {
   "cell_type": "code",
   "execution_count": 13,
   "id": "cfd866a2-9578-40ea-b428-04ca975ac54f",
   "metadata": {},
   "outputs": [
    {
     "name": "stdout",
     "output_type": "stream",
     "text": [
      "{'StateSnapshot': {'config': {'configurable': {'checkpoint_id': '...9d48',\n",
      "                                               'checkpoint_ns': '',\n",
      "                                               'thread_id': '6a2c'}},\n",
      "                   'created_at': '2025-10-23T14:39:42.192167+00:00',\n",
      "                   'interrupts': [],\n",
      "                   'metadata': {'parents': {}, 'source': 'loop', 'step': 0},\n",
      "                   'next': ['node_a'],\n",
      "                   'parent_config': {'configurable': {'checkpoint_id': '...c10b',\n",
      "                                                      'checkpoint_ns': '',\n",
      "                                                      'thread_id': '6a2c'}},\n",
      "                   'tasks': [{'PregelTask': {'error': None,\n",
      "                                             'id': '...bf20',\n",
      "                                             'interrupts': [],\n",
      "                                             'name': 'node_a',\n",
      "                                             'path': ['__pregel_pull', 'node_a'],\n",
      "                                             'result': {'bar': ['a'], 'foo': 'a'},\n",
      "                                             'state': None}}],\n",
      "                   'values': {'bar': [], 'foo': 'begin'}}}\n"
     ]
    }
   ],
   "source": [
    "sh = list(graph.get_state_history(config))\n",
    "pretty_print_snapshot(sh[-2])"
   ]
  },
  {
   "cell_type": "code",
   "execution_count": null,
   "id": "5a6c1d44-d28c-401b-89ed-53bcc0434b4d",
   "metadata": {},
   "outputs": [],
   "source": []
  },
  {
   "cell_type": "code",
   "execution_count": null,
   "id": "a1eb098c-b2bf-4e05-8bdd-eb83bd3714b9",
   "metadata": {},
   "outputs": [],
   "source": []
  }
 ],
 "metadata": {
  "kernelspec": {
   "display_name": "Python 3 (ipykernel)",
   "language": "python",
   "name": "python3"
  },
  "language_info": {
   "codemirror_mode": {
    "name": "ipython",
    "version": 3
   },
   "file_extension": ".py",
   "mimetype": "text/x-python",
   "name": "python",
   "nbconvert_exporter": "python",
   "pygments_lexer": "ipython3",
   "version": "3.13.5"
  }
 },
 "nbformat": 4,
 "nbformat_minor": 5
}
